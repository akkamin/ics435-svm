{
 "cells": [
  {
   "cell_type": "code",
   "execution_count": 9,
   "metadata": {},
   "outputs": [],
   "source": [
    "import numpy as np\n",
    "import pandas as pd\n",
    "from sklearn import svm\n",
    "from sklearn.linear_model import Perceptron\n",
    "from mlxtend.plotting import plot_decision_regions\n",
    "import matplotlib.pyplot as plt"
   ]
  },
  {
   "cell_type": "code",
   "execution_count": 10,
   "metadata": {},
   "outputs": [],
   "source": [
    "#function to define plots\n",
    "def define_plot(clf, X, y, title, index, dims):\n",
    "    plt.subplot(dims[0], dims[1], index)\n",
    "    plot_decision_regions(X=X.values, y=y.values, clf=clf, legend=2)\n",
    "    plt.xlabel(X.columns[0], size=14)\n",
    "    plt.ylabel(X.columns[1], size=14)\n",
    "    plt.title(title, size=16)\n",
    "    plt.axvline(x=0, color='black', linestyle='--')\n",
    "    plt.axhline(y=0, color='black', linestyle='--')"
   ]
  },
  {
   "cell_type": "code",
   "execution_count": null,
   "metadata": {},
   "outputs": [],
   "source": [
    "def xor_label(df):\n",
    "    rtn = []\n",
    "    for i in range(50):\n",
    "        if (df['X'][i] >= 0 and df['Y'][i] < 0) or (df['X'][i] < 0 and df['Y'][i] >= 0):\n",
    "            rtn.append(1)\n",
    "        else:\n",
    "            rtn.append(-1)\n",
    "    return rtn\n",
    "xor_df = pd.DataFrame({'X': np.random.uniform(low=-5, high=5, size=50),\n",
    "                       'Y': np.random.uniform(low=-5, high=5, size=50)})\n",
    "xor_df['Label'] = xor_label(xor_df)\n",
    "\n",
    "X = xor_df[['X', 'Y']]\n",
    "y = xor_df['Label']\n",
    "\n",
    "clf_lin = svm.SVC(kernel='linear')\n",
    "clf_lin.fit(X.values, y.values) \n",
    "\n",
    "clf_poly = svm.SVC(kernel='poly', degree=20)\n",
    "clf_poly.fit(X.values, y.values) \n",
    "\n",
    "clf_rbf = svm.SVC(kernel='rbf')\n",
    "clf_rbf.fit(X.values, y.values) \n",
    "\n",
    "clf_sigmoid = svm.SVC(kernel='sigmoid')\n",
    "clf_sigmoid.fit(X.values, y.values) "
   ]
  },
  {
   "cell_type": "code",
   "execution_count": null,
   "metadata": {},
   "outputs": [],
   "source": [
    "print(\"accuracy for linear svm: \" + str(clf_lin.score(X.values, y.values)*100 )+ \"%\")\n",
    "print(\"accuracy for polynomial svm: \" + str(clf_poly.score(X.values, y.values)*100 )+ \"%\")\n",
    "print(\"accuracy for rbf svm: \" + str(clf_rbf.score(X.values, y.values)*100 )+ \"%\")\n",
    "print(\"accuracy for sigmoid svm: \" + str(clf_sigmoid.score(X.values, y.values)*100 )+ \"%\")\n",
    "\n",
    "plt.figure(figsize=(22,12))\n",
    "dims = [2,2]\n",
    "\n",
    "#XOR SVM Decision Region Boundary\n",
    "define_plot(clf_lin, X, y, \"XOR linear SVM Decision Region Boundary\", 1, dims)\n",
    "define_plot(clf_poly, X, y, \"XOR polynomial SVM Decision Region Boundary\", 2, dims)\n",
    "define_plot(clf_rbf, X, y, \"XOR rbf SVM Decision Region Boundary\", 3, dims)\n",
    "define_plot(clf_sigmoid, X, y, \"XOR sigmoid SVM Decision Region Boundary\", 4, dims)\n",
    "\n",
    "plt.show()"
   ]
  },
  {
   "cell_type": "markdown",
   "metadata": {},
   "source": []
  }
 ],
 "metadata": {
  "kernelspec": {
   "display_name": "Python 3",
   "language": "python",
   "name": "python3"
  },
  "language_info": {
   "codemirror_mode": {
    "name": "ipython",
    "version": 3
   },
   "file_extension": ".py",
   "mimetype": "text/x-python",
   "name": "python",
   "nbconvert_exporter": "python",
   "pygments_lexer": "ipython3",
   "version": "3.7.1"
  }
 },
 "nbformat": 4,
 "nbformat_minor": 2
}
